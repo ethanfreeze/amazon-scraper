{
 "cells": [
  {
   "cell_type": "code",
   "execution_count": 4,
   "id": "7ec3235c",
   "metadata": {},
   "outputs": [],
   "source": [
    "from selenium import webdriver as wd\n",
    "import csv\n",
    "from bs4 import BeautifulSoup as bs\n",
    "import pandas as pd"
   ]
  },
  {
   "cell_type": "code",
   "execution_count": 5,
   "id": "86955ea5",
   "metadata": {},
   "outputs": [],
   "source": [
    "#Variables\n",
    "page_start = 1\n",
    "page_finish = 21"
   ]
  },
  {
   "cell_type": "code",
   "execution_count": 6,
   "id": "29cbe3b0",
   "metadata": {},
   "outputs": [
    {
     "name": "stdout",
     "output_type": "stream",
     "text": [
      "2\n",
      "3\n",
      "4\n",
      "5\n",
      "6\n",
      "7\n",
      "8\n",
      "9\n",
      "10\n",
      "11\n",
      "12\n",
      "13\n",
      "14\n",
      "15\n",
      "16\n",
      "17\n",
      "18\n",
      "19\n",
      "20\n",
      "21\n"
     ]
    }
   ],
   "source": [
    "from selenium import webdriver as wd\n",
    "import csv\n",
    "from bs4 import BeautifulSoup as bs\n",
    "\n",
    "def get_url(search_term):\n",
    "    template = 'https://www.amazon.com/s?k={}&page{}&crid=1HT27OCBDLP2O&sprefix={}%2Caps%2C87&ref=nb_sb_noss_2'\n",
    "    search_term = search_term.replace(' ','+')\n",
    "        \n",
    "    global page_counter\n",
    "    page_counter=1\n",
    "    for page_counter in range(1,21):\n",
    "        page_inserter = str(page_counter)\n",
    "        url = template.format(search_term, page_inserter, search_term)\n",
    "        page_counter += 1\n",
    "        print(page_counter)\n",
    "    return url\n",
    "\n",
    "def extract_record(item):\n",
    "    #Desc and URL\n",
    "    atag = item.h2.a\n",
    "    desc = atag.text.strip()\n",
    "    url = 'https://www.amazon.com/' + atag.get('href')\n",
    "    try:\n",
    "        #price\n",
    "        price_parent = item.find('span', 'a-price')\n",
    "        price = price_parent.find('span','a-offscreen').text\n",
    "    except AttributeError:\n",
    "        return\n",
    "    \n",
    "    try:\n",
    "        #rank and rating\n",
    "        rating = item.i.text\n",
    "        review_count = item.find('span', {'class': 'a-size-base','class': 's-underline-text'}).text\n",
    "    except AttributeError:\n",
    "        rating = ' '\n",
    "        review_count = ' '\n",
    "        \n",
    "    result = (desc, price, rating, review_count, url)\n",
    "    return result\n",
    "\n",
    "def main(search_term):\n",
    "    #WebDriver\n",
    "    driver = wd.Chrome(r'Z:\\Class Repo\\Personal Practice\\Web Scraping\\chromedriver_win32\\chromedriver.exe')\n",
    "    url = 'https://www.amazon.com/'\n",
    "    driver.get(url)\n",
    "    \n",
    "    records = []\n",
    "    url = get_url(search_term)\n",
    "    \n",
    "    for page in range(1,2):\n",
    "        driver.get(url.format(page))\n",
    "        soup = bs(driver.page_source, 'html.parser')\n",
    "        results = soup.find_all('div', {'data-component-type':'s-search-result'})\n",
    "        for item in results:\n",
    "            record = extract_record(item)\n",
    "            if record:\n",
    "                records.append(record)\n",
    "    driver.close()\n",
    "    \n",
    "    #Save to csv\n",
    "    with open('Amazon_Results.csv', 'w', newline='', encoding='utf-8') as f:\n",
    "        writer = csv.writer(f)\n",
    "        writer.writerow({'Description', 'Price', 'Rating', 'Review Count', 'URL'})\n",
    "        writer.writerows(records)\n",
    "    \n",
    "main('hoodie')"
   ]
  },
  {
   "cell_type": "code",
   "execution_count": null,
   "id": "f33ec12f",
   "metadata": {},
   "outputs": [],
   "source": []
  },
  {
   "cell_type": "code",
   "execution_count": null,
   "id": "9d103fe4",
   "metadata": {},
   "outputs": [],
   "source": []
  },
  {
   "cell_type": "code",
   "execution_count": null,
   "id": "8e3e9d19",
   "metadata": {},
   "outputs": [],
   "source": []
  }
 ],
 "metadata": {
  "kernelspec": {
   "display_name": "PythonData",
   "language": "python",
   "name": "pythondata"
  },
  "language_info": {
   "codemirror_mode": {
    "name": "ipython",
    "version": 3
   },
   "file_extension": ".py",
   "mimetype": "text/x-python",
   "name": "python",
   "nbconvert_exporter": "python",
   "pygments_lexer": "ipython3",
   "version": "3.9.7"
  }
 },
 "nbformat": 4,
 "nbformat_minor": 5
}
