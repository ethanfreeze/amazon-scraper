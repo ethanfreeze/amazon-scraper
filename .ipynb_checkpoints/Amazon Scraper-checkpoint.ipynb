{
 "cells": [
  {
   "cell_type": "code",
   "execution_count": 1,
   "id": "b8258ff0",
   "metadata": {},
   "outputs": [],
   "source": [
    "from selenium import webdriver as wd\n",
    "import csv\n",
    "from bs4 import BeautifulSoup as bs"
   ]
  },
  {
   "cell_type": "code",
   "execution_count": 2,
   "id": "2c61bf8b",
   "metadata": {},
   "outputs": [],
   "source": [
    "#WebDriver"
   ]
  },
  {
   "cell_type": "code",
   "execution_count": 3,
   "id": "db70c550",
   "metadata": {},
   "outputs": [],
   "source": [
    "driver = wd.Chrome(r'Z:\\Class Repo\\Personal Practice\\Web Scraping\\chromedriver_win32\\chromedriver.exe')\n",
    "url = 'https://www.amazon.com/'\n",
    "driver.get(url)"
   ]
  },
  {
   "cell_type": "code",
   "execution_count": 4,
   "id": "f8c51368",
   "metadata": {},
   "outputs": [],
   "source": [
    "def get_url(search_term):\n",
    "    template = 'https://www.amazon.com/s?k={}&crid=1HT27OCBDLP2O&sprefix=fishtank%2Caps%2C87&ref=nb_sb_noss_2'\n",
    "    search_term = search_term.replace(' ','+')\n",
    "    return template.format(search_term)\n"
   ]
  },
  {
   "cell_type": "code",
   "execution_count": 5,
   "id": "b93bcb79",
   "metadata": {},
   "outputs": [
    {
     "name": "stdout",
     "output_type": "stream",
     "text": [
      "https://www.amazon.com/s?k=fishtank&crid=1HT27OCBDLP2O&sprefix=fishtank%2Caps%2C87&ref=nb_sb_noss_2\n"
     ]
    }
   ],
   "source": [
    "url = get_url('fishtank')\n",
    "print(url)"
   ]
  },
  {
   "cell_type": "code",
   "execution_count": 6,
   "id": "5f3b9d76",
   "metadata": {},
   "outputs": [],
   "source": [
    "driver.get(url)"
   ]
  },
  {
   "cell_type": "code",
   "execution_count": 7,
   "id": "e16bdb0d",
   "metadata": {},
   "outputs": [],
   "source": [
    "#Extract Collection\n",
    "\n",
    "soup = bs(driver.page_source, 'html.parser')\n",
    "results = soup.find_all('div', {'data-component-type':'s-search-result'})"
   ]
  },
  {
   "cell_type": "code",
   "execution_count": 8,
   "id": "306e5924",
   "metadata": {},
   "outputs": [
    {
     "data": {
      "text/plain": [
       "60"
      ]
     },
     "execution_count": 8,
     "metadata": {},
     "output_type": "execute_result"
    }
   ],
   "source": [
    "len(results)"
   ]
  },
  {
   "cell_type": "code",
   "execution_count": 9,
   "id": "5ee0ccde",
   "metadata": {},
   "outputs": [],
   "source": [
    "#Prototype Record\n",
    "\n",
    "item = results[0]\n",
    "atag = item.h2.a\n",
    "desc = atag.text.strip()"
   ]
  },
  {
   "cell_type": "code",
   "execution_count": 10,
   "id": "f47e88b3",
   "metadata": {},
   "outputs": [],
   "source": [
    "url = 'https://www.amazon.com/' + atag.get('href')"
   ]
  },
  {
   "cell_type": "code",
   "execution_count": 11,
   "id": "014ec5e8",
   "metadata": {},
   "outputs": [],
   "source": [
    "price_parent = item.find('span', 'a-price')"
   ]
  },
  {
   "cell_type": "code",
   "execution_count": 12,
   "id": "a961d351",
   "metadata": {},
   "outputs": [],
   "source": [
    "price = price_parent.find('span','a-offscreen').text"
   ]
  },
  {
   "cell_type": "code",
   "execution_count": 13,
   "id": "b8251393",
   "metadata": {},
   "outputs": [],
   "source": [
    "rating = item.i.text"
   ]
  },
  {
   "cell_type": "code",
   "execution_count": 27,
   "id": "ac0e9971",
   "metadata": {},
   "outputs": [
    {
     "name": "stdout",
     "output_type": "stream",
     "text": [
      "Tetra ColorFusion Aquarium 20 Gallon Fish Tank Kit, Includes LED Lighting and Decor\n"
     ]
    }
   ],
   "source": [
    "#temp_review_count = item.find('span', {'class': 'a-size-base'})\n",
    "#if temp_review_count is not None:\n",
    "#    review_count = temp_review_count.text\n",
    "#else:\n",
    "#    review_count=None\n",
    "#print(review_count)"
   ]
  },
  {
   "cell_type": "code",
   "execution_count": 28,
   "id": "4b63beba",
   "metadata": {},
   "outputs": [],
   "source": [
    "def extract_record(item):\n",
    "    #Desc and URL\n",
    "    atag = item.h2.a\n",
    "    desc = atag.text.strip()\n",
    "    url = 'https://www.amazon.com/' + atag.get('href')\n",
    "    \n",
    "    #price\n",
    "    price_parent = item.find('span', 'a-price')\n",
    "    price = price_parent.find('span','a-offscreen').text\n",
    "    \n",
    "    #rank\n",
    "    rating = item.i.text\n",
    "    \n",
    "    result = (desc, price, rating, url)\n",
    "    return result\n"
   ]
  },
  {
   "cell_type": "code",
   "execution_count": null,
   "id": "73227c83",
   "metadata": {},
   "outputs": [],
   "source": [
    "records = []\n",
    "results = soup.find_all('div', {'data_component_type': 's-search-result'})\n",
    "\n",
    "for item in results:\n",
    "    records.append(extract_record(item))\n",
    "    "
   ]
  }
 ],
 "metadata": {
  "kernelspec": {
   "display_name": "PythonData",
   "language": "python",
   "name": "pythondata"
  },
  "language_info": {
   "codemirror_mode": {
    "name": "ipython",
    "version": 3
   },
   "file_extension": ".py",
   "mimetype": "text/x-python",
   "name": "python",
   "nbconvert_exporter": "python",
   "pygments_lexer": "ipython3",
   "version": "3.9.7"
  }
 },
 "nbformat": 4,
 "nbformat_minor": 5
}
