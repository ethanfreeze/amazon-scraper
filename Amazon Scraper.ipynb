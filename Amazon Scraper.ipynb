{
 "cells": [
  {
   "cell_type": "code",
   "execution_count": 1,
   "id": "b8258ff0",
   "metadata": {},
   "outputs": [],
   "source": [
    "from selenium import webdriver as wd\n",
    "import csv\n",
    "from bs4 import BeautifulSoup as bs"
   ]
  },
  {
   "cell_type": "code",
   "execution_count": 2,
   "id": "2c61bf8b",
   "metadata": {},
   "outputs": [],
   "source": [
    "#WebDriver"
   ]
  },
  {
   "cell_type": "code",
   "execution_count": 4,
   "id": "db70c550",
   "metadata": {},
   "outputs": [],
   "source": [
    "driver = wd.Chrome(r'Z:\\Class Repo\\Personal Practice\\Web Scraping\\chromedriver_win32\\chromedriver.exe')\n",
    "url = 'https://www.amazon.com/'\n",
    "driver.get(url)"
   ]
  },
  {
   "cell_type": "code",
   "execution_count": 5,
   "id": "f8c51368",
   "metadata": {},
   "outputs": [],
   "source": [
    "def get_url(search_term):\n",
    "    template = 'https://www.amazon.com/s?k={}&crid=1HT27OCBDLP2O&sprefix=fishtank%2Caps%2C87&ref=nb_sb_noss_2'\n",
    "    search_term = search_term.replace(' ','+')\n",
    "    return template.format(search_term)\n"
   ]
  },
  {
   "cell_type": "code",
   "execution_count": 6,
   "id": "bf2b7164",
   "metadata": {},
   "outputs": [
    {
     "name": "stdout",
     "output_type": "stream",
     "text": [
      "https://www.amazon.com/s?k=fishtank&crid=1HT27OCBDLP2O&sprefix=fishtank%2Caps%2C87&ref=nb_sb_noss_2\n"
     ]
    }
   ],
   "source": [
    "url = get_url('fishtank')\n",
    "print(url)"
   ]
  },
  {
   "cell_type": "code",
   "execution_count": 7,
   "id": "e4199a89",
   "metadata": {},
   "outputs": [],
   "source": [
    "driver.get(url)"
   ]
  },
  {
   "cell_type": "code",
   "execution_count": 8,
   "id": "4eba6c4d",
   "metadata": {},
   "outputs": [],
   "source": [
    "#Extract Collection\n",
    "\n",
    "soup = bs(driver.page_source, 'html.parser')\n",
    "results = soup.find_all('div', {'data-component-type':'s-search-result'})\n"
   ]
  },
  {
   "cell_type": "code",
   "execution_count": 9,
   "id": "ad569c99",
   "metadata": {},
   "outputs": [
    {
     "data": {
      "text/plain": [
       "60"
      ]
     },
     "execution_count": 9,
     "metadata": {},
     "output_type": "execute_result"
    }
   ],
   "source": [
    "len(results)"
   ]
  },
  {
   "cell_type": "code",
   "execution_count": 10,
   "id": "801c601a",
   "metadata": {},
   "outputs": [],
   "source": [
    "#Prototype Record\n",
    "\n",
    "item = results[0]\n",
    "atag = item.h2.a\n",
    "desc = atag.text.strip()"
   ]
  },
  {
   "cell_type": "code",
   "execution_count": 13,
   "id": "79c600f7",
   "metadata": {},
   "outputs": [
    {
     "name": "stdout",
     "output_type": "stream",
     "text": [
      "https://www.amazon.com//gp/slredirect/picassoRedirect.html/ref=pa_sp_atf_aps_sr_pg1_1?ie=UTF8&adId=A059103012NFR7AT9EL0V&qualifier=1673310915&id=2979853019093835&widgetName=sp_atf&url=%2FTetra-Gallon-Aquarium-Filter-Conditioners%2Fdp%2FB07BJ9KPSR%2Fref%3Dsr_1_1_sspa%3Fcrid%3D1HT27OCBDLP2O%26keywords%3Dfishtank%26qid%3D1673310915%26sprefix%3Dfishtank%252Caps%252C87%26sr%3D8-1-spons%26psc%3D1\n"
     ]
    }
   ],
   "source": [
    "url = 'https://www.amazon.com/' + atag.get('href')\n",
    "print(url)"
   ]
  },
  {
   "cell_type": "code",
   "execution_count": 14,
   "id": "5ecf0c3f",
   "metadata": {},
   "outputs": [
    {
     "name": "stdout",
     "output_type": "stream",
     "text": [
      "<span class=\"a-price\" data-a-color=\"base\" data-a-size=\"xl\"><span class=\"a-offscreen\">$365.01</span><span aria-hidden=\"true\"><span class=\"a-price-symbol\">$</span><span class=\"a-price-whole\">365<span class=\"a-price-decimal\">.</span></span><span class=\"a-price-fraction\">01</span></span></span>\n"
     ]
    }
   ],
   "source": [
    "price_parent = item.find('span', 'a-price')\n",
    "print(price_parent)"
   ]
  },
  {
   "cell_type": "code",
   "execution_count": 15,
   "id": "04ac1562",
   "metadata": {},
   "outputs": [
    {
     "name": "stdout",
     "output_type": "stream",
     "text": [
      "$365.01\n"
     ]
    }
   ],
   "source": [
    "price = price_parent.find('span','a-offscreen').text\n",
    "print(price)"
   ]
  },
  {
   "cell_type": "code",
   "execution_count": 15,
   "id": "9ebff423",
   "metadata": {},
   "outputs": [
    {
     "name": "stdout",
     "output_type": "stream",
     "text": [
      "4.4 out of 5 stars\n"
     ]
    }
   ],
   "source": [
    "rating = item.i.text\n",
    "print(rating)"
   ]
  },
  {
   "cell_type": "code",
   "execution_count": 16,
   "id": "de8be79f",
   "metadata": {},
   "outputs": [
    {
     "name": "stdout",
     "output_type": "stream",
     "text": [
      "537\n"
     ]
    }
   ],
   "source": [
    "review_count = item.find('span', {'class': 'a-size-base','class': 's-underline-text'}).text\n",
    "print(review_count)\n"
   ]
  },
  {
   "cell_type": "code",
   "execution_count": null,
   "id": "55973c1d",
   "metadata": {},
   "outputs": [],
   "source": []
  },
  {
   "cell_type": "code",
   "execution_count": null,
   "id": "10c30840",
   "metadata": {},
   "outputs": [],
   "source": []
  },
  {
   "cell_type": "code",
   "execution_count": 18,
   "id": "edcb2207",
   "metadata": {},
   "outputs": [
    {
     "data": {
      "text/plain": [
       "('Tetra 55 Gallon Aquarium Kit with Fish Tank, Fish Net, Fish Food, Filter, Heater and Water Conditioners',\n",
       " '$365.01',\n",
       " '4.4 out of 5 stars',\n",
       " '537',\n",
       " 'https://www.amazon.com//gp/slredirect/picassoRedirect.html/ref=pa_sp_atf_aps_sr_pg1_1?ie=UTF8&adId=A059103012NFR7AT9EL0V&qualifier=1673310915&id=2979853019093835&widgetName=sp_atf&url=%2FTetra-Gallon-Aquarium-Filter-Conditioners%2Fdp%2FB07BJ9KPSR%2Fref%3Dsr_1_1_sspa%3Fcrid%3D1HT27OCBDLP2O%26keywords%3Dfishtank%26qid%3D1673310915%26sprefix%3Dfishtank%252Caps%252C87%26sr%3D8-1-spons%26psc%3D1')"
      ]
     },
     "execution_count": 18,
     "metadata": {},
     "output_type": "execute_result"
    }
   ],
   "source": [
    "#error Handling\n",
    "def extract_record(item):\n",
    "    #Desc and URL\n",
    "    atag = item.h2.a\n",
    "    desc = atag.text.strip()\n",
    "    url = 'https://www.amazon.com/' + atag.get('href')\n",
    "    try:\n",
    "        #price\n",
    "        price_parent = item.find('span', 'a-price')\n",
    "        price = price_parent.find('span','a-offscreen').text\n",
    "    except AttributeError:\n",
    "        return\n",
    "    \n",
    "    try:\n",
    "        #rank and rating\n",
    "        rating = item.i.text\n",
    "        review_count = item.find('span', {'class': 'a-size-base','class': 's-underline-text'}).text\n",
    "    except AttributeError:\n",
    "        rating = ' '\n",
    "        review_count = ' '\n",
    "        \n",
    "    result = (desc, price, rating, review_count, url)\n",
    "    return result\n",
    "extract_record(item)"
   ]
  },
  {
   "cell_type": "code",
   "execution_count": 19,
   "id": "454e9d4f",
   "metadata": {},
   "outputs": [],
   "source": [
    "records = []\n",
    "soup = bs(driver.page_source, 'html.parser')\n",
    "results = soup.find_all('div', {'data-component-type':'s-search-result'})\n",
    "\n",
    "\n",
    "for item in results:\n",
    "    record = extract_record(item)\n",
    "    if record:\n",
    "        records.append(record)"
   ]
  },
  {
   "cell_type": "code",
   "execution_count": 20,
   "id": "3fd9b9cb",
   "metadata": {},
   "outputs": [
    {
     "data": {
      "text/plain": [
       "('Aqueon LED MiniBow Small Aquarium Fish Tank Kit with SmartClean Technology, Black, 2.5 Gallon',\n",
       " '$48.99',\n",
       " '4.3 out of 5 stars',\n",
       " '3,237',\n",
       " 'https://www.amazon.com//Aqueon-MiniBow-SmartClean-Technology-Gallon/dp/B08LK994Y3/ref=sr_1_2?crid=1HT27OCBDLP2O&keywords=fishtank&qid=1673310915&sprefix=fishtank%2Caps%2C87&sr=8-2')"
      ]
     },
     "execution_count": 20,
     "metadata": {},
     "output_type": "execute_result"
    }
   ],
   "source": [
    "records[1]"
   ]
  },
  {
   "cell_type": "code",
   "execution_count": 21,
   "id": "13101935",
   "metadata": {},
   "outputs": [],
   "source": [
    "def get_url(search_term):\n",
    "    template = 'https://www.amazon.com/s?k={}&page{}&crid=1HT27OCBDLP2O&sprefix={}%2Caps%2C87&ref=nb_sb_noss_2'\n",
    "    search_term = search_term.replace(' ','+')\n",
    "        \n",
    "    global page_counter\n",
    "    page_counter=1\n",
    "    for page_counter in range(1,21):\n",
    "        page_inserter = str(page_counter)\n",
    "        url = template.format(search_term, page_inserter, search_term)\n",
    "        page_counter += 1\n",
    "        print(page_counter)\n",
    "    return url"
   ]
  },
  {
   "cell_type": "code",
   "execution_count": null,
   "id": "be6d2d5e",
   "metadata": {},
   "outputs": [],
   "source": []
  },
  {
   "cell_type": "code",
   "execution_count": null,
   "id": "38e23962",
   "metadata": {},
   "outputs": [],
   "source": []
  }
 ],
 "metadata": {
  "kernelspec": {
   "display_name": "PythonData",
   "language": "python",
   "name": "pythondata"
  },
  "language_info": {
   "codemirror_mode": {
    "name": "ipython",
    "version": 3
   },
   "file_extension": ".py",
   "mimetype": "text/x-python",
   "name": "python",
   "nbconvert_exporter": "python",
   "pygments_lexer": "ipython3",
   "version": "3.9.7"
  }
 },
 "nbformat": 4,
 "nbformat_minor": 5
}
